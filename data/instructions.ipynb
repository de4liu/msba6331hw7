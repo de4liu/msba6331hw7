{
 "cells": [
  {
   "cell_type": "markdown",
   "metadata": {
    "application/vnd.databricks.v1+cell": {
     "cellMetadata": {},
     "inputWidgets": {},
     "nuid": "d334827e-df9a-4098-bcd8-2ccfc333b888",
     "showTitle": false,
     "title": ""
    }
   },
   "source": [
    "# Homework 7 MLOps and Git\n",
    "\n",
    "## Objectives\n",
    "\n",
    "The goal of this assignment is to reinforce your understanding of MLOps,\n",
    "Git commands for source control, the common structure of a machine\n",
    "learning repository, and a typical structure of a py file designed for\n",
    "running in a command line environment (including in a cloud\n",
    "environment).\n"
   ]
  },
  {
   "cell_type": "markdown",
   "metadata": {
    "application/vnd.databricks.v1+cell": {
     "cellMetadata": {},
     "inputWidgets": {},
     "nuid": "73c7361c-0710-4773-9cf8-18074ee31c7d",
     "showTitle": false,
     "title": ""
    }
   },
   "source": [
    "\n",
    "## A. Short Answers:\n"
   ]
  },
  {
   "cell_type": "markdown",
   "metadata": {
    "application/vnd.databricks.v1+cell": {
     "cellMetadata": {},
     "inputWidgets": {},
     "nuid": "404551a2-6a36-4ef9-b52d-9d85d9948bc3",
     "showTitle": false,
     "title": ""
    }
   },
   "source": [
    "\n",
    "If you consult Gen AI, i prefer you refine/synthesize answers from it\n",
    "rather than directly copy and paste. The common reference requirements\n",
    "still apply.\n"
   ]
  },
  {
   "cell_type": "markdown",
   "metadata": {
    "application/vnd.databricks.v1+cell": {
     "cellMetadata": {},
     "inputWidgets": {},
     "nuid": "4ef349c6-cbd4-4265-90ef-38e66ddec60d",
     "showTitle": false,
     "title": ""
    }
   },
   "source": [
    "\n",
    "1.  Can you explain the concept of MLOps in your own words and its\n",
    "    importance in the industry?\n"
   ]
  },
  {
   "cell_type": "markdown",
   "metadata": {
    "application/vnd.databricks.v1+cell": {
     "cellMetadata": {},
     "inputWidgets": {},
     "nuid": "32d6de68-9125-4a03-9303-b1ef3f326751",
     "showTitle": false,
     "title": ""
    }
   },
   "source": [
    "Answer:"
   ]
  },
  {
   "cell_type": "markdown",
   "metadata": {
    "application/vnd.databricks.v1+cell": {
     "cellMetadata": {},
     "inputWidgets": {},
     "nuid": "cce9504e-fb93-4c34-a5b1-c9139ec19e14",
     "showTitle": false,
     "title": ""
    }
   },
   "source": [
    "\n",
    "2.  Can you describe in your own words, how we monitor and troubleshoot\n",
    "    machine learning models in production, in reference to our MLOps\n",
    "    framework?\n"
   ]
  },
  {
   "cell_type": "markdown",
   "metadata": {
    "application/vnd.databricks.v1+cell": {
     "cellMetadata": {},
     "inputWidgets": {},
     "nuid": "302b8edc-240d-4c99-a59e-2507df9ed1b9",
     "showTitle": false,
     "title": ""
    }
   },
   "source": [
    "Answer:\n"
   ]
  },
  {
   "cell_type": "markdown",
   "metadata": {
    "application/vnd.databricks.v1+cell": {
     "cellMetadata": {},
     "inputWidgets": {},
     "nuid": "e96de504-ebf7-4c51-9c41-94fdc0b12f06",
     "showTitle": false,
     "title": ""
    }
   },
   "source": [
    "\n",
    "3.  What is CI/CD in MLOps? What problems do they solve? What tools are\n",
    "    commonly used for CI/CD?\n"
   ]
  },
  {
   "cell_type": "markdown",
   "metadata": {
    "application/vnd.databricks.v1+cell": {
     "cellMetadata": {},
     "inputWidgets": {},
     "nuid": "07ea83d5-520b-472e-8112-d0c25f5723ef",
     "showTitle": false,
     "title": ""
    }
   },
   "source": [
    "Answer:"
   ]
  },
  {
   "cell_type": "markdown",
   "metadata": {
    "application/vnd.databricks.v1+cell": {
     "cellMetadata": {},
     "inputWidgets": {},
     "nuid": "6a2b6c15-b601-4fb2-98df-1682f5ff4c3b",
     "showTitle": false,
     "title": ""
    }
   },
   "source": [
    "\n",
    "4.  What is a **feature store** in MLOps; What are the benefits?\n"
   ]
  },
  {
   "cell_type": "markdown",
   "metadata": {
    "application/vnd.databricks.v1+cell": {
     "cellMetadata": {},
     "inputWidgets": {},
     "nuid": "6cdf3360-0732-445f-a6a3-493124884fdc",
     "showTitle": false,
     "title": ""
    }
   },
   "source": [
    "Answer:"
   ]
  },
  {
   "cell_type": "markdown",
   "metadata": {
    "application/vnd.databricks.v1+cell": {
     "cellMetadata": {},
     "inputWidgets": {},
     "nuid": "c76043db-368b-4329-ad76-645832e0cae5",
     "showTitle": false,
     "title": ""
    }
   },
   "source": [
    "## B Git Source Control"
   ]
  },
  {
   "cell_type": "markdown",
   "metadata": {
    "application/vnd.databricks.v1+cell": {
     "cellMetadata": {},
     "inputWidgets": {},
     "nuid": "8dc26bb9-06b8-44f3-b4ce-9f120b974d88",
     "showTitle": false,
     "title": ""
    }
   },
   "source": [
    "\n",
    "\n",
    "\n",
    "### 1. Set Up\n",
    "\n",
    "We leverage the Github classroom feature, which allows me to set up one\n",
    "common assignment for everyone on github, and provides a convenient view\n",
    "of everybody’s work (git commits). To get a sense of how Git Classroom\n",
    "works, and how to work on a github assignment, please check these pages:\n",
    "videos:\n",
    "\n",
    "-   [GitHub Classroom Get Started](https://classroom.github.com/videos)\n",
    "-   [How students complete assignments GitHub Classroom: How students\n",
    "    complete assignments](https://www.youtube.com/watch?v=ObaFRGp_Eko)\n",
    "\n",
    "We will use your name as an identifier. Once you accept the invitation,\n",
    "you will have a new repository created for you with a starting template\n",
    "(some data files and some Jupyter notebooks).\n",
    "\n",
    "The video illustrates commitments through Github, but I expect you to\n",
    "**practice git commands** through a terminal (e.g., accessed through\n",
    "VSCode).\n"
   ]
  },
  {
   "cell_type": "markdown",
   "metadata": {
    "application/vnd.databricks.v1+cell": {
     "cellMetadata": {},
     "inputWidgets": {},
     "nuid": "2a3c2171-3f8e-44bd-ae76-30cea28f795b",
     "showTitle": false,
     "title": ""
    }
   },
   "source": [
    "\n",
    "### 2. Update the `README.md` file.\n",
    "\n",
    "README.md is a markdown file for other developers who use your\n",
    "repository. It typically includes information such as project\n",
    "description, requirements, installation instructions, and usage\n",
    "documentation.\n",
    "\n",
    "Please update this file by adding your name and date.\n",
    "\n",
    "Then `commit` and `push` the changes to the remote repository (using the\n",
    "comment “update readme”).\n"
   ]
  },
  {
   "cell_type": "markdown",
   "metadata": {
    "application/vnd.databricks.v1+cell": {
     "cellMetadata": {},
     "inputWidgets": {},
     "nuid": "d2f2b6be-faa2-4daf-94a8-9840be8cc68b",
     "showTitle": false,
     "title": ""
    }
   },
   "source": [
    "> Enter the commands used, plus any note you may have for them.\n"
   ]
  },
  {
   "cell_type": "markdown",
   "metadata": {
    "application/vnd.databricks.v1+cell": {
     "cellMetadata": {},
     "inputWidgets": {},
     "nuid": "ee241970-20b3-4507-b171-7e123c9437de",
     "showTitle": false,
     "title": ""
    }
   },
   "source": [
    "\n",
    "### 3. Add a `.gitignore` file\n",
    "\n",
    "`.gitignore` is a special file that lets Git know that it should ignore\n",
    "certain files and not track them. You can add it to your project\n",
    "directory or subdirectories. Read more here about [how to use\n",
    ".gitignore](https://www.pluralsight.com/guides/how-to-use-gitignore-file).\n",
    "\n",
    "-   Log files\n",
    "-   Files with API keys/secrets, credentials, or sensitive information\n",
    "-   Useless system-generated files like `.DS_Store` on macOS,\n",
    "    `.ipynb_checkpoints` for jupyter notebooks\n",
    "-   Dependencies that can be downloaded from a package manager.\n",
    "\n",
    "Create a `.gitignore` file with the following content:\n",
    "\n",
    "``` python\n",
    "# Byte-compiled / optimized / DLL files\n",
    "__pycache__/\n",
    "\n",
    "# Jupyter Notebook\n",
    ".ipynb_checkpoints\n",
    "\n",
    "# Environments\n",
    "env\n",
    "\n",
    "# log file\n",
    "*.log\n",
    "```\n",
    "\n",
    "Then `commit` and `push` the changes to the remote repository (using\n",
    "comment “add .gitignore”).\n"
   ]
  },
  {
   "cell_type": "markdown",
   "metadata": {
    "application/vnd.databricks.v1+cell": {
     "cellMetadata": {},
     "inputWidgets": {},
     "nuid": "c46ed036-80db-4d90-bddf-e914f75e77fb",
     "showTitle": false,
     "title": ""
    }
   },
   "source": [
    "> Enter the commands used, plus any note you may have for them.\n"
   ]
  },
  {
   "cell_type": "markdown",
   "metadata": {
    "application/vnd.databricks.v1+cell": {
     "cellMetadata": {},
     "inputWidgets": {},
     "nuid": "d5545f11-0852-4d39-ba82-0415d0cd010f",
     "showTitle": false,
     "title": ""
    }
   },
   "source": [
    "\n",
    "### 4. Review the two Jupyter Notebooks\n",
    "\n",
    "I took two (slightly-edited) user-contributed notebooks from Kaggle as a\n",
    "starting point for your project. They are located in the `notebooks`\n",
    "folder. Please note that they are not all consistent with each other.\n",
    "\n",
    "-   **houseprice-eda.ipynb**: we will re-use the decision tree portion\n",
    "    of this notebook\n",
    "-   **random-forests.ipynb**: we will re-use the train_test_split and\n",
    "    random forest portions of this notebook\n",
    "\n",
    "If you’re converting ipynb to py files, please note the following:\n",
    "\n",
    "-   the path may need updating. We will run the script from the project\n",
    "    folder using `python scripts/[myfile].py`. So the relative path of\n",
    "    your data files is `data/[datafile].csv`\n",
    "-   some plotting/display commands may be removed since our output will\n",
    "    be a text-based console.\n",
    "-   some markdowns may be removed\n",
    "-   It is common for `py` files to have defined\n",
    "\n",
    "``` python\n",
    "\n",
    "\"\"\"\n",
    "\n",
    "brief description of the script\n",
    "\n",
    "@author: [author name]\n",
    "\n",
    "\"\"\"\n",
    "\n",
    "import ...\n",
    "\n",
    "# variables\n",
    "# functions\n",
    "\n",
    "def main():\n",
    "    #codes for the main function\n",
    "\n",
    "\n",
    "if __name__ == \"__main__\":\n",
    "    #entry point for command line execution\n",
    "    main()\n",
    "```\n"
   ]
  },
  {
   "cell_type": "markdown",
   "metadata": {
    "application/vnd.databricks.v1+cell": {
     "cellMetadata": {},
     "inputWidgets": {},
     "nuid": "f4862db8-bd52-4243-9df4-fab5a64074d4",
     "showTitle": false,
     "title": ""
    }
   },
   "source": [
    "> Enter the commands used, plus any note you may have for them.\n"
   ]
  },
  {
   "cell_type": "markdown",
   "metadata": {
    "application/vnd.databricks.v1+cell": {
     "cellMetadata": {},
     "inputWidgets": {},
     "nuid": "8dfb4115-3b5d-4f94-a207-043714ffc7cf",
     "showTitle": false,
     "title": ""
    }
   },
   "source": [
    "\n",
    "### 5. Create a “decision_tree” branch\n",
    "\n",
    "Using git command to create/switch to a `decision_tree` branch for\n",
    "developing the decision tree model.\n"
   ]
  },
  {
   "cell_type": "markdown",
   "metadata": {
    "application/vnd.databricks.v1+cell": {
     "cellMetadata": {},
     "inputWidgets": {},
     "nuid": "749fa9b6-ddc1-44c4-ae9b-61ea27558634",
     "showTitle": false,
     "title": ""
    }
   },
   "source": [
    "> Enter the commands used, plus any note you may have for them.\n"
   ]
  },
  {
   "cell_type": "markdown",
   "metadata": {
    "application/vnd.databricks.v1+cell": {
     "cellMetadata": {},
     "inputWidgets": {},
     "nuid": "14886bb8-bd19-43e7-ba59-422b8aa824f7",
     "showTitle": false,
     "title": ""
    }
   },
   "source": [
    "\n",
    "### 6. Create `data_prep.py` in the `decision_tree` branch\n",
    "\n",
    "Please follow the data preparation codes based on\n",
    "`random-forests.ipynb`, except that\n",
    "\n",
    "-   save the train and test dataframes (with `label`) as `train.csv` and\n",
    "    `test.csv` respectively in the `data` folder, with header row but\n",
    "    not index.\n",
    "\n",
    "Test your script using:\n",
    "\n",
    "``` bash\n",
    "python scripts/data_prep.py\n",
    "```\n",
    "\n",
    "Then `commit` and `push` the changes to the remote repository.\n"
   ]
  },
  {
   "cell_type": "markdown",
   "metadata": {
    "application/vnd.databricks.v1+cell": {
     "cellMetadata": {},
     "inputWidgets": {},
     "nuid": "e12ecb3d-9f44-4b0a-88e0-f143ca3174e6",
     "showTitle": false,
     "title": ""
    }
   },
   "source": [
    "> Enter the commands used, plus any note you may have for them.\n"
   ]
  },
  {
   "cell_type": "markdown",
   "metadata": {
    "application/vnd.databricks.v1+cell": {
     "cellMetadata": {},
     "inputWidgets": {},
     "nuid": "141f17a3-d5e4-4156-8f7f-9f6a317d2714",
     "showTitle": false,
     "title": ""
    }
   },
   "source": [
    "\n",
    "### 7. Create `train.py` in the `decision_tree` branch\n",
    "\n",
    "`train.py` should read from `data/train.csv` and train a DecisionTree\n",
    "model (with `random_state` set to 0 for reproducibility).\n",
    "\n",
    "-   it should display the mean absolute error for the model (when\n",
    "    applying to the training data).\n",
    "\n",
    "You shall save the resulting model as `models/trained_model_dt.pkl`\n",
    "\n",
    "``` python\n",
    "import pickle\n",
    "with open('models/[file].pkl', 'wb') as file:\n",
    "    pickle.dump(trained_model, file)\n",
    "```\n",
    "\n",
    "Test your script and then `commit` and `push` the changes to the remote\n",
    "repository."
   ]
  },
  {
   "cell_type": "markdown",
   "metadata": {
    "application/vnd.databricks.v1+cell": {
     "cellMetadata": {},
     "inputWidgets": {},
     "nuid": "6afb4fd1-6bff-4b82-adc0-b1adb7878b88",
     "showTitle": false,
     "title": ""
    }
   },
   "source": [
    "> Enter the commands used, plus any note you may have for them.\n"
   ]
  },
  {
   "cell_type": "markdown",
   "metadata": {
    "application/vnd.databricks.v1+cell": {
     "cellMetadata": {},
     "inputWidgets": {},
     "nuid": "812eff75-04cf-4199-b09d-d9b24c4f60db",
     "showTitle": false,
     "title": ""
    }
   },
   "source": [
    "\n",
    "### 8. Create `test.py` in the `decision_tree` branch\n",
    "\n",
    "`test.py` should read one line of input as a command line argument\n",
    "(`--inputdata`), and use the model saved in\n",
    "`models/trained_model_dt.pkl` to make a prediction. It should print the\n",
    "predicted housing price.\n",
    "\n",
    "``` bash\n",
    "python scripts/test.py --inputdata \"710000.0,3,1.0,594.0,-37.7385,145.0409\" \n",
    "```\n",
    "\n",
    "To set up the command line argument, you may use the `argparse` package:\n",
    "\n",
    "``` python\n",
    "    import argparse\n",
    "    parser = argparse.ArgumentParser(description='[description of the module]')\n",
    "    # The name of the argument is inputdata, -i is a shorthand, the argument is required.\n",
    "    parser.add_argument('-i', '--inputdata', required=True, help='CSV data as a string')\n",
    "    # parse the command for arguments\n",
    "    args = parser.parse_args()\n",
    "    # You may subsequently access the input argument using args.inputdata\n",
    "```\n",
    "\n",
    "Please note that input data is a single line from the CSV without a\n",
    "column header.\n",
    "\n",
    "You can use pandas’s `.read_csv(buffer, names=[list_of_col_names])`\n",
    "where buffer could be created from the string you obtain from the\n",
    "command argument:\n",
    "\n",
    "``` python\n",
    "from io import StringIO\n",
    "buffer = StringIO(your_string)\n",
    "```\n",
    "\n",
    "To load the trained model from the pickle file:\n",
    "\n",
    "``` python\n",
    "import pickle\n",
    "with open(pickle_file_path, 'rb') as file:\n",
    "    model = pickle.load(file)\n",
    "```\n",
    "\n",
    "Test your script and then `commit` and `push` the changes to the remote\n",
    "repository.\n"
   ]
  },
  {
   "cell_type": "markdown",
   "metadata": {
    "application/vnd.databricks.v1+cell": {
     "cellMetadata": {},
     "inputWidgets": {},
     "nuid": "bb6dbdfd-9c15-4873-beca-58715473c9d3",
     "showTitle": false,
     "title": ""
    }
   },
   "source": [
    "> Enter the commands used, plus any note you may have for them.\n"
   ]
  },
  {
   "cell_type": "markdown",
   "metadata": {
    "application/vnd.databricks.v1+cell": {
     "cellMetadata": {},
     "inputWidgets": {},
     "nuid": "50cf64af-1849-40b0-bf8c-452ed65bea8a",
     "showTitle": false,
     "title": ""
    }
   },
   "source": [
    "\n",
    "### 9. merge the `decision_tree` branch into the `main` branch.\n",
    "\n",
    "Havign tested the decision_tree branch, you should not merge the branch\n",
    "into the main.\n"
   ]
  },
  {
   "cell_type": "markdown",
   "metadata": {
    "application/vnd.databricks.v1+cell": {
     "cellMetadata": {},
     "inputWidgets": {},
     "nuid": "afe1d141-1128-4cfb-b520-756fa18a8320",
     "showTitle": false,
     "title": ""
    }
   },
   "source": [
    "> Enter the commands used, plus any note you may have for them.\n"
   ]
  },
  {
   "cell_type": "markdown",
   "metadata": {
    "application/vnd.databricks.v1+cell": {
     "cellMetadata": {},
     "inputWidgets": {},
     "nuid": "e4052944-2a87-4612-b6a1-2c28ccb9e36b",
     "showTitle": false,
     "title": ""
    }
   },
   "source": [
    "\n",
    "### 10. Clone the github repo to a different folder `hw7copy`\n",
    "\n",
    "Check out the `main` branch.\n",
    "\n",
    "Then create a `randomforest` branch for developing a random forest\n",
    "model.\n"
   ]
  },
  {
   "cell_type": "markdown",
   "metadata": {
    "application/vnd.databricks.v1+cell": {
     "cellMetadata": {},
     "inputWidgets": {},
     "nuid": "2641271f-0f0f-478a-b4e0-c88cb3d36eaf",
     "showTitle": false,
     "title": ""
    }
   },
   "source": [
    "\n",
    "### 11. Develop the training code for the random forest model in the `randomforest` branch.\n",
    "\n",
    "While on the `randomforest` branch, add a new script `train_rf.py`, that\n",
    "follows the same steps as `train.py` except:\n",
    "\n",
    "-   It should train a random forest model\n",
    "-   it should save the resulting model as `trained_model_rf.pkl` in the\n",
    "    models folder.\n",
    "\n",
    "Test your script and then `commit` and `push` the changes to the remote\n",
    "repository.\n"
   ]
  },
  {
   "cell_type": "markdown",
   "metadata": {
    "application/vnd.databricks.v1+cell": {
     "cellMetadata": {},
     "inputWidgets": {},
     "nuid": "d6d000fb-9b86-4dec-a471-64375aff19fe",
     "showTitle": false,
     "title": ""
    }
   },
   "source": [
    "> Enter the commands used, plus any note you may have for them.\n"
   ]
  },
  {
   "cell_type": "markdown",
   "metadata": {
    "application/vnd.databricks.v1+cell": {
     "cellMetadata": {},
     "inputWidgets": {},
     "nuid": "96fa0aab-5232-4f68-8422-7c11e067f9f0",
     "showTitle": false,
     "title": ""
    }
   },
   "source": [
    "\n",
    "### 12. Develop the testing code for the random forest model in the `randomforest` branch.\n",
    "\n",
    "Instead of writing code, it may be useful to augment the exiting test.py\n",
    "to allow the users to choose the model they want to apply. This can be\n",
    "done by adding an argument, e.g.:\n",
    "\n",
    "``` bash\n",
    "python scripts/test.py --inputdata \"710000.0,3,1.0,594.0,-37.7385,145.0409\" --model dt\n",
    "```\n",
    "\n",
    "where `--model` can take a value of `dt` or `rf`.\n",
    "\n",
    "Modify the `test.py` to:\n",
    "\n",
    "-   add another required argument `--model`.\n",
    "-   depending on the value of args.model, load different pickle files.\n",
    "\n",
    "the rest would remain the same similar.\n",
    "\n",
    "Test your script and then `commit` and `push` the changes to the remote\n",
    "repository.\n"
   ]
  },
  {
   "cell_type": "markdown",
   "metadata": {
    "application/vnd.databricks.v1+cell": {
     "cellMetadata": {},
     "inputWidgets": {},
     "nuid": "697e567a-6a6a-47ce-9d15-398bf32fc3c7",
     "showTitle": false,
     "title": ""
    }
   },
   "source": [
    "> Enter the commands used, plus any note you may have for them.\n"
   ]
  },
  {
   "cell_type": "markdown",
   "metadata": {
    "application/vnd.databricks.v1+cell": {
     "cellMetadata": {},
     "inputWidgets": {},
     "nuid": "0d5589ef-3765-43c2-b4b5-80146bea77e1",
     "showTitle": false,
     "title": ""
    }
   },
   "source": [
    "\n",
    "### 13. Merge the `randomforest` branch into the main branch\n",
    "\n",
    "Now that you have tested the random forest model training code as well\n",
    "as the inference code, you should proceed to merge the branch into the\n",
    "main branch.\n"
   ]
  },
  {
   "cell_type": "markdown",
   "metadata": {
    "application/vnd.databricks.v1+cell": {
     "cellMetadata": {},
     "inputWidgets": {},
     "nuid": "5aa2dccf-8de4-4a98-adf5-a85bd13b3633",
     "showTitle": false,
     "title": ""
    }
   },
   "source": [
    "> Enter the commands used, plus any note you may have for them.\n"
   ]
  },
  {
   "cell_type": "markdown",
   "metadata": {
    "application/vnd.databricks.v1+cell": {
     "cellMetadata": {},
     "inputWidgets": {},
     "nuid": "e4b15409-d15e-4339-916c-24171d0593b9",
     "showTitle": false,
     "title": ""
    }
   },
   "source": [
    "\n",
    "### 14. Create conflicting changes\n",
    "\n",
    "In the original folder, check out the `decision_tree` branch, add a\n",
    "`usage` section to the `README.md`:\n",
    "\n",
    "    ## usage\n",
    "    - `python scripts/data_prep.py`: to prepare the training/test data files\n",
    "    - `python scripts/train.py`: to train a decision tree model on the training data \n",
    "    - `python scripts/test.py --inputdata \"349000.0,1,1.0,1958.0,38.0,0.0,-37.8369,145.0077\" --model dt`: to predict the house price for a single house using the trained decision tree model\n",
    "\n",
    "Commit the changes and merge into the `main` branch, push to the remote\n",
    "repository:\n",
    "\n",
    "In the `hw7copy` folder, check out the `randomforest` branch, and add a\n",
    "`usage` section to the `README.md`:\n",
    "\n",
    "    ## usage\n",
    "    - `python scripts/data_prep.py`: to prepare the training/test data files\n",
    "    - `python scripts/train_rf.py`: to train a random forest model on the training data \n",
    "    - `python scripts/test.py --inputdata \"349000.0,1,1.0,1958.0,38.0,0.0,-37.8369,145.0077\" --model rf`: to predict the house price for a single house using a trained random forest model\n",
    "\n",
    "Commit the changes and merge them into the `main` branch, and push to\n",
    "the remote repository. Resolve any issues/conflicts in the process. The\n",
    "result could have two lines for training (one for each model) and two\n",
    "lines for testing.\n"
   ]
  },
  {
   "cell_type": "markdown",
   "metadata": {
    "application/vnd.databricks.v1+cell": {
     "cellMetadata": {},
     "inputWidgets": {},
     "nuid": "40b9186d-8936-4dae-9c7f-47648a46bded",
     "showTitle": false,
     "title": ""
    }
   },
   "source": [
    "> Enter the commands used, plus any note you may have for them.\n"
   ]
  }
 ],
 "metadata": {
  "application/vnd.databricks.v1+notebook": {
   "dashboards": [],
   "language": "python",
   "notebookMetadata": {
    "pythonIndentUnit": 2
   },
   "notebookName": "instructions",
   "widgets": {}
  },
  "language_info": {
   "name": "python"
  }
 },
 "nbformat": 4,
 "nbformat_minor": 0
}
